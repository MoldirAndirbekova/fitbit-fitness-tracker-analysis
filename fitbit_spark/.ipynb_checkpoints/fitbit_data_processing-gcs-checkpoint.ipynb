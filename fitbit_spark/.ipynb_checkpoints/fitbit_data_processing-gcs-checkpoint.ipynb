{
 "cells": [
  {
   "cell_type": "code",
   "execution_count": 1,
   "id": "8825e643-f6da-47be-89ea-5dd84854f654",
   "metadata": {},
   "outputs": [],
   "source": [
    "import pyspark\n",
    "from pyspark.sql import SparkSession\n",
    "from pyspark.conf import SparkConf\n",
    "from pyspark.context import SparkContext\n",
    "from pyspark.sql.types import *"
   ]
  },
  {
   "cell_type": "code",
   "execution_count": 2,
   "id": "6e5f8f07-aaa3-4892-8fb1-314270009e30",
   "metadata": {},
   "outputs": [],
   "source": [
    "credentials_location = '/home/kuralay/notebooks/fitbit/google_credentials.json'\n",
    "\n",
    "conf = SparkConf() \\\n",
    "    .setMaster('local[*]') \\\n",
    "    .setAppName('FitbitDataProcessing') \\\n",
    "    .set(\"spark.jars\", \"./lib/gcs-connector-hadoop3-2.2.5.jar\") \\\n",
    "    .set(\"spark.hadoop.google.cloud.auth.service.account.enable\", \"true\") \\\n",
    "    .set(\"spark.hadoop.google.cloud.auth.service.account.json.keyfile\", credentials_location)"
   ]
  },
  {
   "cell_type": "code",
   "execution_count": 3,
   "id": "b88b3917-b2bb-49ac-89b1-37329f875aea",
   "metadata": {},
   "outputs": [
    {
     "name": "stdout",
     "output_type": "stream",
     "text": [
      "24/05/13 18:41:56 WARN Utils: Your hostname, DESKTOP-0OEQG1D resolves to a loopback address: 127.0.1.1; using 172.26.37.49 instead (on interface eth0)\n",
      "24/05/13 18:41:56 WARN Utils: Set SPARK_LOCAL_IP if you need to bind to another address\n",
      "24/05/13 18:41:58 WARN NativeCodeLoader: Unable to load native-hadoop library for your platform... using builtin-java classes where applicable\n"
     ]
    },
    {
     "name": "stderr",
     "output_type": "stream",
     "text": [
      "Setting default log level to \"WARN\".\n",
      "To adjust logging level use sc.setLogLevel(newLevel). For SparkR, use setLogLevel(newLevel).\n"
     ]
    }
   ],
   "source": [
    "sc = SparkContext(conf=conf)\n",
    "\n",
    "hadoop_conf = sc._jsc.hadoopConfiguration()\n",
    "\n",
    "hadoop_conf.set(\"fs.AbstractFileSystem.gs.impl\",  \"com.google.cloud.hadoop.fs.gcs.GoogleHadoopFS\")\n",
    "hadoop_conf.set(\"fs.gs.impl\", \"com.google.cloud.hadoop.fs.gcs.GoogleHadoopFileSystem\")\n",
    "hadoop_conf.set(\"fs.gs.auth.service.account.json.keyfile\", credentials_location)\n",
    "hadoop_conf.set(\"fs.gs.auth.service.account.enable\", \"true\")"
   ]
  },
  {
   "cell_type": "code",
   "execution_count": 4,
   "id": "53c5b8cd-4820-4f71-95e3-fa9f07e2eecc",
   "metadata": {},
   "outputs": [],
   "source": [
    "spark = SparkSession.builder \\\n",
    "    .config(conf=sc.getConf()) \\\n",
    "    .getOrCreate()"
   ]
  },
  {
   "cell_type": "code",
   "execution_count": 5,
   "id": "e1be5b36-4325-4b78-9103-90ca60918ec9",
   "metadata": {},
   "outputs": [
    {
     "ename": "Py4JJavaError",
     "evalue": "An error occurred while calling o120.load.\n: java.lang.ClassNotFoundException: \nFailed to find data source: bigquery. Please find packages at\nhttps://spark.apache.org/third-party-projects.html\n       \n\tat org.apache.spark.sql.errors.QueryExecutionErrors$.failedToFindDataSourceError(QueryExecutionErrors.scala:587)\n\tat org.apache.spark.sql.execution.datasources.DataSource$.lookupDataSource(DataSource.scala:675)\n\tat org.apache.spark.sql.execution.datasources.DataSource$.lookupDataSourceV2(DataSource.scala:725)\n\tat org.apache.spark.sql.DataFrameReader.load(DataFrameReader.scala:207)\n\tat org.apache.spark.sql.DataFrameReader.load(DataFrameReader.scala:171)\n\tat java.base/jdk.internal.reflect.NativeMethodAccessorImpl.invoke0(Native Method)\n\tat java.base/jdk.internal.reflect.NativeMethodAccessorImpl.invoke(NativeMethodAccessorImpl.java:62)\n\tat java.base/jdk.internal.reflect.DelegatingMethodAccessorImpl.invoke(DelegatingMethodAccessorImpl.java:43)\n\tat java.base/java.lang.reflect.Method.invoke(Method.java:566)\n\tat py4j.reflection.MethodInvoker.invoke(MethodInvoker.java:244)\n\tat py4j.reflection.ReflectionEngine.invoke(ReflectionEngine.java:357)\n\tat py4j.Gateway.invoke(Gateway.java:282)\n\tat py4j.commands.AbstractCommand.invokeMethod(AbstractCommand.java:132)\n\tat py4j.commands.CallCommand.execute(CallCommand.java:79)\n\tat py4j.ClientServerConnection.waitForCommands(ClientServerConnection.java:182)\n\tat py4j.ClientServerConnection.run(ClientServerConnection.java:106)\n\tat java.base/java.lang.Thread.run(Thread.java:834)\nCaused by: java.lang.ClassNotFoundException: bigquery.DefaultSource\n\tat java.base/java.net.URLClassLoader.findClass(URLClassLoader.java:471)\n\tat java.base/java.lang.ClassLoader.loadClass(ClassLoader.java:588)\n\tat java.base/java.lang.ClassLoader.loadClass(ClassLoader.java:521)\n\tat org.apache.spark.sql.execution.datasources.DataSource$.$anonfun$lookupDataSource$5(DataSource.scala:661)\n\tat scala.util.Try$.apply(Try.scala:213)\n\tat org.apache.spark.sql.execution.datasources.DataSource$.$anonfun$lookupDataSource$4(DataSource.scala:661)\n\tat scala.util.Failure.orElse(Try.scala:224)\n\tat org.apache.spark.sql.execution.datasources.DataSource$.lookupDataSource(DataSource.scala:661)\n\t... 15 more\n",
     "output_type": "error",
     "traceback": [
      "\u001b[0;31m---------------------------------------------------------------------------\u001b[0m",
      "\u001b[0;31mPy4JJavaError\u001b[0m                             Traceback (most recent call last)",
      "Cell \u001b[0;32mIn[5], line 2\u001b[0m\n\u001b[1;32m      1\u001b[0m table \u001b[38;5;241m=\u001b[39m \u001b[38;5;124m\"\u001b[39m\u001b[38;5;124museful-monitor-415110.taxi_data.external_green_taxi_data\u001b[39m\u001b[38;5;124m\"\u001b[39m\n\u001b[0;32m----> 2\u001b[0m df \u001b[38;5;241m=\u001b[39m \u001b[43mspark\u001b[49m\u001b[38;5;241;43m.\u001b[39;49m\u001b[43mread\u001b[49m\u001b[38;5;241;43m.\u001b[39;49m\u001b[43mformat\u001b[49m\u001b[43m(\u001b[49m\u001b[38;5;124;43m\"\u001b[39;49m\u001b[38;5;124;43mbigquery\u001b[39;49m\u001b[38;5;124;43m\"\u001b[39;49m\u001b[43m)\u001b[49m\u001b[38;5;241;43m.\u001b[39;49m\u001b[43moption\u001b[49m\u001b[43m(\u001b[49m\u001b[38;5;124;43m\"\u001b[39;49m\u001b[38;5;124;43mtable\u001b[39;49m\u001b[38;5;124;43m\"\u001b[39;49m\u001b[43m,\u001b[49m\u001b[43mtable\u001b[49m\u001b[43m)\u001b[49m\u001b[38;5;241;43m.\u001b[39;49m\u001b[43mload\u001b[49m\u001b[43m(\u001b[49m\u001b[43m)\u001b[49m\n\u001b[1;32m      3\u001b[0m df\u001b[38;5;241m.\u001b[39mshow()\n\u001b[1;32m      4\u001b[0m df\u001b[38;5;241m.\u001b[39mprintSchema()\n",
      "File \u001b[0;32m~/.local/lib/python3.10/site-packages/pyspark/sql/readwriter.py:184\u001b[0m, in \u001b[0;36mDataFrameReader.load\u001b[0;34m(self, path, format, schema, **options)\u001b[0m\n\u001b[1;32m    182\u001b[0m     \u001b[38;5;28;01mreturn\u001b[39;00m \u001b[38;5;28mself\u001b[39m\u001b[38;5;241m.\u001b[39m_df(\u001b[38;5;28mself\u001b[39m\u001b[38;5;241m.\u001b[39m_jreader\u001b[38;5;241m.\u001b[39mload(\u001b[38;5;28mself\u001b[39m\u001b[38;5;241m.\u001b[39m_spark\u001b[38;5;241m.\u001b[39m_sc\u001b[38;5;241m.\u001b[39m_jvm\u001b[38;5;241m.\u001b[39mPythonUtils\u001b[38;5;241m.\u001b[39mtoSeq(path)))\n\u001b[1;32m    183\u001b[0m \u001b[38;5;28;01melse\u001b[39;00m:\n\u001b[0;32m--> 184\u001b[0m     \u001b[38;5;28;01mreturn\u001b[39;00m \u001b[38;5;28mself\u001b[39m\u001b[38;5;241m.\u001b[39m_df(\u001b[38;5;28;43mself\u001b[39;49m\u001b[38;5;241;43m.\u001b[39;49m\u001b[43m_jreader\u001b[49m\u001b[38;5;241;43m.\u001b[39;49m\u001b[43mload\u001b[49m\u001b[43m(\u001b[49m\u001b[43m)\u001b[49m)\n",
      "File \u001b[0;32m~/.local/lib/python3.10/site-packages/py4j/java_gateway.py:1321\u001b[0m, in \u001b[0;36mJavaMember.__call__\u001b[0;34m(self, *args)\u001b[0m\n\u001b[1;32m   1315\u001b[0m command \u001b[38;5;241m=\u001b[39m proto\u001b[38;5;241m.\u001b[39mCALL_COMMAND_NAME \u001b[38;5;241m+\u001b[39m\\\n\u001b[1;32m   1316\u001b[0m     \u001b[38;5;28mself\u001b[39m\u001b[38;5;241m.\u001b[39mcommand_header \u001b[38;5;241m+\u001b[39m\\\n\u001b[1;32m   1317\u001b[0m     args_command \u001b[38;5;241m+\u001b[39m\\\n\u001b[1;32m   1318\u001b[0m     proto\u001b[38;5;241m.\u001b[39mEND_COMMAND_PART\n\u001b[1;32m   1320\u001b[0m answer \u001b[38;5;241m=\u001b[39m \u001b[38;5;28mself\u001b[39m\u001b[38;5;241m.\u001b[39mgateway_client\u001b[38;5;241m.\u001b[39msend_command(command)\n\u001b[0;32m-> 1321\u001b[0m return_value \u001b[38;5;241m=\u001b[39m \u001b[43mget_return_value\u001b[49m\u001b[43m(\u001b[49m\n\u001b[1;32m   1322\u001b[0m \u001b[43m    \u001b[49m\u001b[43manswer\u001b[49m\u001b[43m,\u001b[49m\u001b[43m \u001b[49m\u001b[38;5;28;43mself\u001b[39;49m\u001b[38;5;241;43m.\u001b[39;49m\u001b[43mgateway_client\u001b[49m\u001b[43m,\u001b[49m\u001b[43m \u001b[49m\u001b[38;5;28;43mself\u001b[39;49m\u001b[38;5;241;43m.\u001b[39;49m\u001b[43mtarget_id\u001b[49m\u001b[43m,\u001b[49m\u001b[43m \u001b[49m\u001b[38;5;28;43mself\u001b[39;49m\u001b[38;5;241;43m.\u001b[39;49m\u001b[43mname\u001b[49m\u001b[43m)\u001b[49m\n\u001b[1;32m   1324\u001b[0m \u001b[38;5;28;01mfor\u001b[39;00m temp_arg \u001b[38;5;129;01min\u001b[39;00m temp_args:\n\u001b[1;32m   1325\u001b[0m     temp_arg\u001b[38;5;241m.\u001b[39m_detach()\n",
      "File \u001b[0;32m~/.local/lib/python3.10/site-packages/pyspark/sql/utils.py:190\u001b[0m, in \u001b[0;36mcapture_sql_exception.<locals>.deco\u001b[0;34m(*a, **kw)\u001b[0m\n\u001b[1;32m    188\u001b[0m \u001b[38;5;28;01mdef\u001b[39;00m \u001b[38;5;21mdeco\u001b[39m(\u001b[38;5;241m*\u001b[39ma: Any, \u001b[38;5;241m*\u001b[39m\u001b[38;5;241m*\u001b[39mkw: Any) \u001b[38;5;241m-\u001b[39m\u001b[38;5;241m>\u001b[39m Any:\n\u001b[1;32m    189\u001b[0m     \u001b[38;5;28;01mtry\u001b[39;00m:\n\u001b[0;32m--> 190\u001b[0m         \u001b[38;5;28;01mreturn\u001b[39;00m \u001b[43mf\u001b[49m\u001b[43m(\u001b[49m\u001b[38;5;241;43m*\u001b[39;49m\u001b[43ma\u001b[49m\u001b[43m,\u001b[49m\u001b[43m \u001b[49m\u001b[38;5;241;43m*\u001b[39;49m\u001b[38;5;241;43m*\u001b[39;49m\u001b[43mkw\u001b[49m\u001b[43m)\u001b[49m\n\u001b[1;32m    191\u001b[0m     \u001b[38;5;28;01mexcept\u001b[39;00m Py4JJavaError \u001b[38;5;28;01mas\u001b[39;00m e:\n\u001b[1;32m    192\u001b[0m         converted \u001b[38;5;241m=\u001b[39m convert_exception(e\u001b[38;5;241m.\u001b[39mjava_exception)\n",
      "File \u001b[0;32m~/.local/lib/python3.10/site-packages/py4j/protocol.py:326\u001b[0m, in \u001b[0;36mget_return_value\u001b[0;34m(answer, gateway_client, target_id, name)\u001b[0m\n\u001b[1;32m    324\u001b[0m value \u001b[38;5;241m=\u001b[39m OUTPUT_CONVERTER[\u001b[38;5;28mtype\u001b[39m](answer[\u001b[38;5;241m2\u001b[39m:], gateway_client)\n\u001b[1;32m    325\u001b[0m \u001b[38;5;28;01mif\u001b[39;00m answer[\u001b[38;5;241m1\u001b[39m] \u001b[38;5;241m==\u001b[39m REFERENCE_TYPE:\n\u001b[0;32m--> 326\u001b[0m     \u001b[38;5;28;01mraise\u001b[39;00m Py4JJavaError(\n\u001b[1;32m    327\u001b[0m         \u001b[38;5;124m\"\u001b[39m\u001b[38;5;124mAn error occurred while calling \u001b[39m\u001b[38;5;132;01m{0}\u001b[39;00m\u001b[38;5;132;01m{1}\u001b[39;00m\u001b[38;5;132;01m{2}\u001b[39;00m\u001b[38;5;124m.\u001b[39m\u001b[38;5;130;01m\\n\u001b[39;00m\u001b[38;5;124m\"\u001b[39m\u001b[38;5;241m.\u001b[39m\n\u001b[1;32m    328\u001b[0m         \u001b[38;5;28mformat\u001b[39m(target_id, \u001b[38;5;124m\"\u001b[39m\u001b[38;5;124m.\u001b[39m\u001b[38;5;124m\"\u001b[39m, name), value)\n\u001b[1;32m    329\u001b[0m \u001b[38;5;28;01melse\u001b[39;00m:\n\u001b[1;32m    330\u001b[0m     \u001b[38;5;28;01mraise\u001b[39;00m Py4JError(\n\u001b[1;32m    331\u001b[0m         \u001b[38;5;124m\"\u001b[39m\u001b[38;5;124mAn error occurred while calling \u001b[39m\u001b[38;5;132;01m{0}\u001b[39;00m\u001b[38;5;132;01m{1}\u001b[39;00m\u001b[38;5;132;01m{2}\u001b[39;00m\u001b[38;5;124m. Trace:\u001b[39m\u001b[38;5;130;01m\\n\u001b[39;00m\u001b[38;5;132;01m{3}\u001b[39;00m\u001b[38;5;130;01m\\n\u001b[39;00m\u001b[38;5;124m\"\u001b[39m\u001b[38;5;241m.\u001b[39m\n\u001b[1;32m    332\u001b[0m         \u001b[38;5;28mformat\u001b[39m(target_id, \u001b[38;5;124m\"\u001b[39m\u001b[38;5;124m.\u001b[39m\u001b[38;5;124m\"\u001b[39m, name, value))\n",
      "\u001b[0;31mPy4JJavaError\u001b[0m: An error occurred while calling o120.load.\n: java.lang.ClassNotFoundException: \nFailed to find data source: bigquery. Please find packages at\nhttps://spark.apache.org/third-party-projects.html\n       \n\tat org.apache.spark.sql.errors.QueryExecutionErrors$.failedToFindDataSourceError(QueryExecutionErrors.scala:587)\n\tat org.apache.spark.sql.execution.datasources.DataSource$.lookupDataSource(DataSource.scala:675)\n\tat org.apache.spark.sql.execution.datasources.DataSource$.lookupDataSourceV2(DataSource.scala:725)\n\tat org.apache.spark.sql.DataFrameReader.load(DataFrameReader.scala:207)\n\tat org.apache.spark.sql.DataFrameReader.load(DataFrameReader.scala:171)\n\tat java.base/jdk.internal.reflect.NativeMethodAccessorImpl.invoke0(Native Method)\n\tat java.base/jdk.internal.reflect.NativeMethodAccessorImpl.invoke(NativeMethodAccessorImpl.java:62)\n\tat java.base/jdk.internal.reflect.DelegatingMethodAccessorImpl.invoke(DelegatingMethodAccessorImpl.java:43)\n\tat java.base/java.lang.reflect.Method.invoke(Method.java:566)\n\tat py4j.reflection.MethodInvoker.invoke(MethodInvoker.java:244)\n\tat py4j.reflection.ReflectionEngine.invoke(ReflectionEngine.java:357)\n\tat py4j.Gateway.invoke(Gateway.java:282)\n\tat py4j.commands.AbstractCommand.invokeMethod(AbstractCommand.java:132)\n\tat py4j.commands.CallCommand.execute(CallCommand.java:79)\n\tat py4j.ClientServerConnection.waitForCommands(ClientServerConnection.java:182)\n\tat py4j.ClientServerConnection.run(ClientServerConnection.java:106)\n\tat java.base/java.lang.Thread.run(Thread.java:834)\nCaused by: java.lang.ClassNotFoundException: bigquery.DefaultSource\n\tat java.base/java.net.URLClassLoader.findClass(URLClassLoader.java:471)\n\tat java.base/java.lang.ClassLoader.loadClass(ClassLoader.java:588)\n\tat java.base/java.lang.ClassLoader.loadClass(ClassLoader.java:521)\n\tat org.apache.spark.sql.execution.datasources.DataSource$.$anonfun$lookupDataSource$5(DataSource.scala:661)\n\tat scala.util.Try$.apply(Try.scala:213)\n\tat org.apache.spark.sql.execution.datasources.DataSource$.$anonfun$lookupDataSource$4(DataSource.scala:661)\n\tat scala.util.Failure.orElse(Try.scala:224)\n\tat org.apache.spark.sql.execution.datasources.DataSource$.lookupDataSource(DataSource.scala:661)\n\t... 15 more\n"
     ]
    }
   ],
   "source": [
    "table = \"useful-monitor-415110.taxi_data.external_green_taxi_data\"\n",
    "df = spark.read.format(\"bigquery\").option(\"table\",table).load()\n",
    "df.show()\n",
    "df.printSchema()\n",
    "df.createOrReplaceTempView(\"words\")"
   ]
  },
  {
   "cell_type": "code",
   "execution_count": 28,
   "id": "c6e7d42e-35a3-4449-a4ac-046c2233e394",
   "metadata": {},
   "outputs": [],
   "source": [
    "bucket_name=\"health-analysis-backet\""
   ]
  },
  {
   "cell_type": "code",
   "execution_count": 29,
   "id": "1c8166ce-b70c-44d2-afc6-5a2d10d32dd8",
   "metadata": {},
   "outputs": [
    {
     "name": "stderr",
     "output_type": "stream",
     "text": [
      "                                                                                \r"
     ]
    }
   ],
   "source": [
    "daily_activity = spark.read.csv(f\"gs://{bucket_name}/dailyActivity_merged.csv\", header=True, inferSchema=True)\n",
    "daily_calories = spark.read.csv(f\"gs://{bucket_name}/dailyCalories_merged.csv\", header=True, inferSchema=True)\n",
    "daily_intensities = spark.read.csv(f\"gs://{bucket_name}/dailyIntensities_merged.csv\", header=True, inferSchema=True)\n",
    "daily_steps = spark.read.csv(f\"gs://{bucket_name}/dailySteps_merged.csv\", header=True, inferSchema=True)\n",
    "hourly_calories = spark.read.csv(f\"gs://{bucket_name}/hourlyCalories_merged.csv\", header=True, inferSchema=True)\n",
    "hourly_intensities= spark.read.csv(f\"gs://{bucket_name}/hourlyIntensities_merged.csv\", header=True, inferSchema=True)\n",
    "hourly_steps = spark.read.csv(f\"gs://{bucket_name}/hourlySteps_merged.csv\", header=True, inferSchema=True)\n",
    "minute_sleep = spark.read.csv(f\"gs://{bucket_name}/minuteSleep_merged.csv\", header=True, inferSchema=True)\n",
    "sleep_day = spark.read.csv(f\"gs://{bucket_name}/sleepDay_merged.csv\", header=True, inferSchema=True)\n",
    "weight_log_info = spark.read.csv(f\"gs://{bucket_name}/weightLogInfo_merged.csv\", header=True, inferSchema=True)"
   ]
  },
  {
   "cell_type": "code",
   "execution_count": 30,
   "id": "c0f847be-d649-445e-a1c0-ee27b71cfcab",
   "metadata": {},
   "outputs": [],
   "source": [
    "def sort_and_filter(df, sort_column, filter_columns):\n",
    "    filter_condition = col(sort_column).isNotNull()\n",
    "    for column in filter_columns:\n",
    "        filter_condition &= col(column).isNotNull()\n",
    "    return df.orderBy(sort_column).filter(filter_condition)"
   ]
  },
  {
   "cell_type": "code",
   "execution_count": 31,
   "id": "fe3feb23-f731-4d34-8631-879a62b40c80",
   "metadata": {},
   "outputs": [],
   "source": [
    "from pyspark.sql.functions import col\n",
    "\n",
    "sorted_filtered_daily_activity = sort_and_filter(daily_activity, \"ActivityDate\", [\"TotalSteps\", \"TotalDistance\", \"Calories\"])\n",
    "sorted_filtered_daily_calories = sort_and_filter(daily_calories, \"ActivityDay\", [\"Calories\"])\n",
    "sorted_filtered_daily_intensities = sort_and_filter(daily_intensities, \"ActivityDay\", [\"SedentaryMinutes\", \"LightlyActiveMinutes\", \"FairlyActiveMinutes\", \"VeryActiveMinutes\"])\n",
    "sorted_filtered_daily_steps = sort_and_filter(daily_steps, \"ActivityDay\", [\"StepTotal\"])\n",
    "sorted_filtered_hourly_calories = sort_and_filter(hourly_calories, \"ActivityHour\", [\"Calories\"])\n",
    "sorted_filtered_hourly_intensities = sort_and_filter(hourly_intensities, \"ActivityHour\", [\"TotalIntensity\", \"AverageIntensity\"])\n",
    "sorted_filtered_hourly_steps = sort_and_filter(hourly_steps, \"ActivityHour\", [\"StepTotal\"])\n",
    "sorted_filtered_minute_sleep = sort_and_filter(minute_sleep, \"date\", [\"value\"])\n",
    "sorted_filtered_sleep_day = sort_and_filter(sleep_day, \"SleepDay\", [\"TotalSleepRecords\", \"TotalMinutesAsleep\", \"TotalTimeInBed\"])\n",
    "sorted_filtered_weight_log_info = sort_and_filter(weight_log_info, \"Date\", [\"WeightKg\", \"WeightPounds\", \"Fat\", \"BMI\", \"IsManualReport\"])"
   ]
  },
  {
   "cell_type": "code",
   "execution_count": 32,
   "id": "68a09c3a-28e9-4542-b0fe-acb65ddb5a33",
   "metadata": {},
   "outputs": [],
   "source": [
    "def print_nonzero_blanks(df, df_name):\n",
    "    blank_found = False\n",
    "    for col_name in df.columns:\n",
    "        blank_count = df.filter((col(col_name).isNull()) | (col(col_name) == \"\")).count()\n",
    "        if blank_count != 0:\n",
    "            blank_found = True\n",
    "            print(f\"DataFrame: {df_name}, Column: {col_name} - {blank_count} blank values\")\n",
    "    if not blank_found:\n",
    "        print(f\"No blank values found in DataFrame: {df_name}\")"
   ]
  },
  {
   "cell_type": "code",
   "execution_count": 33,
   "id": "60bdcb52-fd46-42a8-827a-2747e2959b83",
   "metadata": {},
   "outputs": [
    {
     "name": "stderr",
     "output_type": "stream",
     "text": [
      "                                                                                \r"
     ]
    },
    {
     "name": "stdout",
     "output_type": "stream",
     "text": [
      "No blank values found in DataFrame: sorted_filtered_daily_activity\n",
      "No blank values found in DataFrame: sorted_filtered_daily_calories\n"
     ]
    },
    {
     "name": "stderr",
     "output_type": "stream",
     "text": [
      "                                                                                \r"
     ]
    },
    {
     "name": "stdout",
     "output_type": "stream",
     "text": [
      "No blank values found in DataFrame: sorted_filtered_daily_intensities\n",
      "No blank values found in DataFrame: sorted_filtered_daily_steps\n"
     ]
    },
    {
     "name": "stderr",
     "output_type": "stream",
     "text": [
      "                                                                                \r"
     ]
    },
    {
     "name": "stdout",
     "output_type": "stream",
     "text": [
      "No blank values found in DataFrame: sorted_filtered_hourly_calories\n"
     ]
    },
    {
     "name": "stderr",
     "output_type": "stream",
     "text": [
      "                                                                                \r"
     ]
    },
    {
     "name": "stdout",
     "output_type": "stream",
     "text": [
      "No blank values found in DataFrame: sorted_filtered_hourly_intensities\n"
     ]
    },
    {
     "name": "stderr",
     "output_type": "stream",
     "text": [
      "                                                                                \r"
     ]
    },
    {
     "name": "stdout",
     "output_type": "stream",
     "text": [
      "No blank values found in DataFrame: sorted_filtered_hourly_steps\n"
     ]
    },
    {
     "name": "stderr",
     "output_type": "stream",
     "text": [
      "                                                                                \r"
     ]
    },
    {
     "name": "stdout",
     "output_type": "stream",
     "text": [
      "No blank values found in DataFrame: sorted_filtered_minute_sleep\n"
     ]
    },
    {
     "name": "stderr",
     "output_type": "stream",
     "text": [
      "                                                                                \r"
     ]
    },
    {
     "name": "stdout",
     "output_type": "stream",
     "text": [
      "No blank values found in DataFrame: sorted_filtered_sleep_day\n"
     ]
    },
    {
     "name": "stderr",
     "output_type": "stream",
     "text": [
      "[Stage 191:>                                                        (0 + 1) / 1]\r"
     ]
    },
    {
     "name": "stdout",
     "output_type": "stream",
     "text": [
      "No blank values found in DataFrame: sorted_filtered_weight_log_info\n"
     ]
    },
    {
     "name": "stderr",
     "output_type": "stream",
     "text": [
      "                                                                                \r"
     ]
    }
   ],
   "source": [
    "print_nonzero_blanks(sorted_filtered_daily_activity, \"sorted_filtered_daily_activity\")\n",
    "print_nonzero_blanks(sorted_filtered_daily_calories, \"sorted_filtered_daily_calories\")\n",
    "print_nonzero_blanks(sorted_filtered_daily_intensities, \"sorted_filtered_daily_intensities\")\n",
    "print_nonzero_blanks(sorted_filtered_daily_steps, \"sorted_filtered_daily_steps\")\n",
    "print_nonzero_blanks(sorted_filtered_hourly_calories, \"sorted_filtered_hourly_calories\")\n",
    "print_nonzero_blanks(sorted_filtered_hourly_intensities, \"sorted_filtered_hourly_intensities\")\n",
    "print_nonzero_blanks(sorted_filtered_hourly_steps, \"sorted_filtered_hourly_steps\")\n",
    "print_nonzero_blanks(sorted_filtered_minute_sleep, \"sorted_filtered_minute_sleep\")\n",
    "print_nonzero_blanks(sorted_filtered_sleep_day, \"sorted_filtered_sleep_day\")\n",
    "print_nonzero_blanks(sorted_filtered_weight_log_info, \"sorted_filtered_weight_log_info\")"
   ]
  },
  {
   "cell_type": "code",
   "execution_count": 34,
   "id": "6e6e2ee6-f61d-4558-93de-fb0a74f8f087",
   "metadata": {},
   "outputs": [],
   "source": [
    "def print_duplicates(df, df_name):\n",
    "    duplicate_count = df.count() - df.dropDuplicates().count()\n",
    "    if duplicate_count != 0:\n",
    "        print(f\"DataFrame: {df_name} - {duplicate_count} duplicates found\")\n",
    "        df.groupBy(df.columns).count().where(col('count') > 1).show(truncate=False)\n",
    "    else:\n",
    "        print(f\"No duplicates found in DataFrame: {df_name}\")"
   ]
  },
  {
   "cell_type": "code",
   "execution_count": 35,
   "id": "8c216989-b943-4858-b06a-6466719d6099",
   "metadata": {},
   "outputs": [
    {
     "name": "stderr",
     "output_type": "stream",
     "text": [
      "                                                                                \r"
     ]
    },
    {
     "name": "stdout",
     "output_type": "stream",
     "text": [
      "No duplicates found in DataFrame: sorted_filtered_daily_activity\n"
     ]
    },
    {
     "name": "stderr",
     "output_type": "stream",
     "text": [
      "                                                                                \r"
     ]
    },
    {
     "name": "stdout",
     "output_type": "stream",
     "text": [
      "No duplicates found in DataFrame: sorted_filtered_daily_calories\n"
     ]
    },
    {
     "name": "stderr",
     "output_type": "stream",
     "text": [
      "                                                                                \r"
     ]
    },
    {
     "name": "stdout",
     "output_type": "stream",
     "text": [
      "No duplicates found in DataFrame: sorted_filtered_daily_intensities\n"
     ]
    },
    {
     "name": "stderr",
     "output_type": "stream",
     "text": [
      "                                                                                \r"
     ]
    },
    {
     "name": "stdout",
     "output_type": "stream",
     "text": [
      "No duplicates found in DataFrame: sorted_filtered_daily_steps\n"
     ]
    },
    {
     "name": "stderr",
     "output_type": "stream",
     "text": [
      "                                                                                \r"
     ]
    },
    {
     "name": "stdout",
     "output_type": "stream",
     "text": [
      "No duplicates found in DataFrame: sorted_filtered_hourly_calories\n"
     ]
    },
    {
     "name": "stderr",
     "output_type": "stream",
     "text": [
      "                                                                                \r"
     ]
    },
    {
     "name": "stdout",
     "output_type": "stream",
     "text": [
      "No duplicates found in DataFrame: sorted_filtered_hourly_intensities\n"
     ]
    },
    {
     "name": "stderr",
     "output_type": "stream",
     "text": [
      "                                                                                \r"
     ]
    },
    {
     "name": "stdout",
     "output_type": "stream",
     "text": [
      "No duplicates found in DataFrame: sorted_filtered_hourly_steps\n"
     ]
    },
    {
     "name": "stderr",
     "output_type": "stream",
     "text": [
      "                                                                                \r"
     ]
    },
    {
     "name": "stdout",
     "output_type": "stream",
     "text": [
      "DataFrame: sorted_filtered_minute_sleep - 543 duplicates found\n"
     ]
    },
    {
     "name": "stderr",
     "output_type": "stream",
     "text": [
      "                                                                                \r"
     ]
    },
    {
     "name": "stdout",
     "output_type": "stream",
     "text": [
      "+----------+--------------------+-----+-----------+-----+\n",
      "|Id        |date                |value|logId      |count|\n",
      "+----------+--------------------+-----+-----------+-----+\n",
      "|4702921684|5/7/2016 1:20:00 AM |1    |11573168523|2    |\n",
      "|4702921684|5/7/2016 2:17:00 AM |1    |11573168523|2    |\n",
      "|4702921684|5/6/2016 9:25:00 PM |1    |11573168523|2    |\n",
      "|4702921684|5/6/2016 9:36:00 PM |1    |11573168523|2    |\n",
      "|4702921684|5/7/2016 12:02:00 AM|1    |11573168523|2    |\n",
      "|4702921684|5/7/2016 3:54:00 AM |1    |11573168523|2    |\n",
      "|4702921684|5/7/2016 5:05:00 AM |1    |11573168523|2    |\n",
      "|4702921684|5/7/2016 5:11:00 AM |1    |11573168523|2    |\n",
      "|4702921684|5/6/2016 10:59:00 PM|1    |11573168523|2    |\n",
      "|4702921684|5/7/2016 2:34:00 AM |1    |11573168523|2    |\n",
      "|4702921684|5/7/2016 4:20:00 AM |1    |11573168523|2    |\n",
      "|4702921684|5/7/2016 2:22:00 AM |1    |11573168523|2    |\n",
      "|4702921684|5/7/2016 4:54:00 AM |1    |11573168523|2    |\n",
      "|4702921684|5/6/2016 9:52:00 PM |1    |11573168523|2    |\n",
      "|4702921684|5/6/2016 10:30:00 PM|1    |11573168523|2    |\n",
      "|4702921684|5/6/2016 11:01:00 PM|1    |11573168523|2    |\n",
      "|4702921684|5/7/2016 12:08:00 AM|1    |11573168523|2    |\n",
      "|4702921684|5/7/2016 2:40:00 AM |1    |11573168523|2    |\n",
      "|4702921684|5/7/2016 6:09:00 AM |1    |11573168523|2    |\n",
      "|4702921684|5/7/2016 1:22:00 AM |1    |11573168523|2    |\n",
      "+----------+--------------------+-----+-----------+-----+\n",
      "only showing top 20 rows\n",
      "\n"
     ]
    },
    {
     "name": "stderr",
     "output_type": "stream",
     "text": [
      "                                                                                \r"
     ]
    },
    {
     "name": "stdout",
     "output_type": "stream",
     "text": [
      "DataFrame: sorted_filtered_sleep_day - 3 duplicates found\n"
     ]
    },
    {
     "name": "stderr",
     "output_type": "stream",
     "text": [
      "                                                                                \r"
     ]
    },
    {
     "name": "stdout",
     "output_type": "stream",
     "text": [
      "+----------+---------------------+-----------------+------------------+--------------+-----+\n",
      "|Id        |SleepDay             |TotalSleepRecords|TotalMinutesAsleep|TotalTimeInBed|count|\n",
      "+----------+---------------------+-----------------+------------------+--------------+-----+\n",
      "|4702921684|5/7/2016 12:00:00 AM |1                |520               |543           |2    |\n",
      "|8378563200|4/25/2016 12:00:00 AM|1                |388               |402           |2    |\n",
      "|4388161847|5/5/2016 12:00:00 AM |1                |471               |495           |2    |\n",
      "+----------+---------------------+-----------------+------------------+--------------+-----+\n",
      "\n"
     ]
    },
    {
     "name": "stderr",
     "output_type": "stream",
     "text": [
      "[Stage 284:>                                                        (0 + 1) / 1]\r"
     ]
    },
    {
     "name": "stdout",
     "output_type": "stream",
     "text": [
      "No duplicates found in DataFrame: sorted_filtered_weight_log_info\n"
     ]
    },
    {
     "name": "stderr",
     "output_type": "stream",
     "text": [
      "                                                                                \r"
     ]
    }
   ],
   "source": [
    "print_duplicates(sorted_filtered_daily_activity, \"sorted_filtered_daily_activity\")\n",
    "print_duplicates(sorted_filtered_daily_calories, \"sorted_filtered_daily_calories\")\n",
    "print_duplicates(sorted_filtered_daily_intensities, \"sorted_filtered_daily_intensities\")\n",
    "print_duplicates(sorted_filtered_daily_steps, \"sorted_filtered_daily_steps\")\n",
    "print_duplicates(sorted_filtered_hourly_calories, \"sorted_filtered_hourly_calories\")\n",
    "print_duplicates(sorted_filtered_hourly_intensities, \"sorted_filtered_hourly_intensities\")\n",
    "print_duplicates(sorted_filtered_hourly_steps, \"sorted_filtered_hourly_steps\")\n",
    "print_duplicates(sorted_filtered_minute_sleep, \"sorted_filtered_minute_sleep\")\n",
    "print_duplicates(sorted_filtered_sleep_day, \"sorted_filtered_sleep_day\")\n",
    "print_duplicates(sorted_filtered_weight_log_info, \"sorted_filtered_weight_log_info\")"
   ]
  },
  {
   "cell_type": "code",
   "execution_count": 36,
   "id": "b2f52772-80c5-4153-a750-8f29f4007123",
   "metadata": {},
   "outputs": [],
   "source": [
    "def remove_duplicates(df, df_name):\n",
    "    initial_count = df.count()\n",
    "    df_no_duplicates = df.dropDuplicates()\n",
    "    final_count = df_no_duplicates.count()\n",
    "    \n",
    "    if initial_count != final_count:\n",
    "        print(f\"Removed {initial_count - final_count} duplicates from DataFrame: {df_name}\")\n",
    "    else:\n",
    "        print(f\"No duplicates found in DataFrame: {df_name}\")\n",
    "    \n",
    "    return df_no_duplicates"
   ]
  },
  {
   "cell_type": "code",
   "execution_count": 37,
   "id": "18de48b9-58f7-4dc0-9424-d12672205949",
   "metadata": {},
   "outputs": [
    {
     "name": "stderr",
     "output_type": "stream",
     "text": [
      "                                                                                \r"
     ]
    },
    {
     "name": "stdout",
     "output_type": "stream",
     "text": [
      "Removed 543 duplicates from DataFrame: sorted_filtered_minute_sleep\n"
     ]
    },
    {
     "name": "stderr",
     "output_type": "stream",
     "text": [
      "[Stage 302:>                                                        (0 + 1) / 1]\r"
     ]
    },
    {
     "name": "stdout",
     "output_type": "stream",
     "text": [
      "Removed 3 duplicates from DataFrame: sorted_filtered_sleep_day\n"
     ]
    },
    {
     "name": "stderr",
     "output_type": "stream",
     "text": [
      "                                                                                \r"
     ]
    }
   ],
   "source": [
    "sorted_filtered_minute_sleep = remove_duplicates(sorted_filtered_minute_sleep, \"sorted_filtered_minute_sleep\")\n",
    "sorted_filtered_sleep_day = remove_duplicates(sorted_filtered_sleep_day, \"sorted_filtered_sleep_day\")\n"
   ]
  },
  {
   "cell_type": "code",
   "execution_count": 38,
   "id": "ebf30fd8-30c7-490a-9162-aa40dfb9b35b",
   "metadata": {},
   "outputs": [],
   "source": [
    "from pyspark.sql.functions import col, to_timestamp, to_date\n",
    "\n",
    "def format_date(df, col_name):\n",
    "    df_with_date = df.withColumn(col_name, to_date(col(col_name), \"M/d/yyyy\"))\n",
    "    df_with_string_date = df_with_date.withColumn(col_name, date_format(col(col_name), \"MM/dd/yyyy\"))\n",
    "    df_with_date = df_with_string_date.withColumn(col_name, to_date(col(col_name), \"MM/dd/yyyy\"))\n",
    "    \n",
    "    return df_with_date\n",
    "\n",
    "def format_timestamp(df, col_name):\n",
    "    df_with_timestamp = df.withColumn(col_name, to_timestamp(col(col_name), \"M/d/yyyy h:m:s a\"))\n",
    "    df_with_string_timestamp = df_with_timestamp.withColumn(col_name, date_format(col(col_name), \"MM/dd/yyyy hh:mm:ss a\"))\n",
    "    df_with_timestamp = df_with_string_timestamp.withColumn(col_name, to_timestamp(col(col_name), \"MM/dd/yyyy hh:mm:ss a\"))\n",
    "    \n",
    "    return df_with_timestamp"
   ]
  },
  {
   "cell_type": "code",
   "execution_count": 39,
   "id": "31a7f55d-84d1-4191-a85f-9d2d545a680e",
   "metadata": {},
   "outputs": [],
   "source": [
    "from pyspark.sql.functions import col, from_unixtime, to_timestamp, date_format\n",
    "\n",
    "cleaned_daily_activity = format_date(sorted_filtered_daily_activity, \"ActivityDate\")\n",
    "\n",
    "cleaned_daily_calories = format_date(sorted_filtered_daily_calories, \"ActivityDay\")\n",
    "\n",
    "cleaned_daily_intensities = format_date(sorted_filtered_daily_intensities, \"ActivityDay\")\n",
    "\n",
    "cleaned_daily_steps = format_date(sorted_filtered_daily_steps, \"ActivityDay\")\n",
    "\n",
    "cleaned_hourly_calories = format_timestamp(sorted_filtered_hourly_calories, \"ActivityHour\")\n",
    "\n",
    "cleaned_hourly_intensities = format_timestamp(sorted_filtered_hourly_intensities, \"ActivityHour\")\n",
    "\n",
    "cleaned_hourly_steps = format_timestamp(sorted_filtered_hourly_steps, \"ActivityHour\")\n",
    "\n",
    "cleaned_minute_sleep = format_timestamp(sorted_filtered_minute_sleep, \"date\")\n",
    "\n",
    "cleaned_weight_log_info = format_timestamp(sorted_filtered_weight_log_info, \"Date\")\n"
   ]
  },
  {
   "cell_type": "code",
   "execution_count": 40,
   "id": "4eb14b5d-24f0-4690-b434-e31b9e1789b6",
   "metadata": {},
   "outputs": [
    {
     "name": "stderr",
     "output_type": "stream",
     "text": [
      "[Stage 308:>                                                        (0 + 1) / 1]\r"
     ]
    },
    {
     "name": "stdout",
     "output_type": "stream",
     "text": [
      "+----------+--------------------+-----------------+------------------+--------------+\n",
      "|        Id|            SleepDay|TotalSleepRecords|TotalMinutesAsleep|TotalTimeInBed|\n",
      "+----------+--------------------+-----------------+------------------+--------------+\n",
      "|3977333714|5/8/2016 12:00:00 AM|                2|               259|           456|\n",
      "|1503960366|4/29/2016 12:00:0...|                1|               341|           354|\n",
      "|4388161847|4/28/2016 12:00:0...|                1|               428|           458|\n",
      "|4445114986|4/30/2016 12:00:0...|                1|               322|           353|\n",
      "|6117666160|5/5/2016 12:00:00 AM|                1|               392|           415|\n",
      "|6962181067|4/26/2016 12:00:0...|                1|               441|           446|\n",
      "|2026352035|4/12/2016 12:00:0...|                1|               503|           546|\n",
      "|2347167796|4/26/2016 12:00:0...|                1|               436|           490|\n",
      "|8378563200|5/5/2016 12:00:00 AM|                1|               381|           417|\n",
      "|5577150313|4/28/2016 12:00:0...|                1|               361|           372|\n",
      "|1503960366|4/16/2016 12:00:0...|                2|               340|           367|\n",
      "|6962181067|5/10/2016 12:00:0...|                1|               469|           481|\n",
      "|5553957443|4/13/2016 12:00:0...|                2|               455|           488|\n",
      "|8378563200|4/22/2016 12:00:0...|                1|               441|           469|\n",
      "|3977333714|5/1/2016 12:00:00 AM|                1|               383|           626|\n",
      "|4702921684|4/28/2016 12:00:0...|                1|               442|           461|\n",
      "|4388161847|4/15/2016 12:00:0...|                1|               499|           526|\n",
      "|5553957443|4/26/2016 12:00:0...|                1|               412|           453|\n",
      "|1503960366|4/19/2016 12:00:0...|                1|               304|           320|\n",
      "|2026352035|4/29/2016 12:00:0...|                1|               490|           510|\n",
      "+----------+--------------------+-----------------+------------------+--------------+\n",
      "only showing top 20 rows\n",
      "\n"
     ]
    },
    {
     "name": "stderr",
     "output_type": "stream",
     "text": [
      "                                                                                \r"
     ]
    }
   ],
   "source": [
    "sorted_filtered_sleep_day.show()"
   ]
  },
  {
   "cell_type": "code",
   "execution_count": 41,
   "id": "9b81c573-218f-4853-9056-9c4a867ea9ea",
   "metadata": {},
   "outputs": [],
   "source": [
    "cleaned_sleep_day = sorted_filtered_sleep_day.withColumn(\"SleepDay\", to_date(\"SleepDay\", \"M/d/yyyy h:m:s a\"))"
   ]
  },
  {
   "cell_type": "code",
   "execution_count": 42,
   "id": "e5ac3156-631a-4cf2-b8e1-f0909626d15f",
   "metadata": {},
   "outputs": [
    {
     "name": "stderr",
     "output_type": "stream",
     "text": [
      "                                                                                \r"
     ]
    }
   ],
   "source": [
    "save_as_parquet = lambda df, name: df.repartition(4).write.mode('overwrite').parquet(f\"data/pq/{name}\")\n",
    "\n",
    "dataframes = {\n",
    "    cleaned_daily_activity: \"daily_activity\",\n",
    "    cleaned_daily_calories: \"daily_calories\",\n",
    "    cleaned_daily_intensities: \"daily_intensities\",\n",
    "    cleaned_daily_steps: \"daily_steps\",\n",
    "    cleaned_hourly_calories: \"hourly_calories\",\n",
    "    cleaned_hourly_intensities: \"hourly_intensities\",\n",
    "    cleaned_hourly_steps: \"hourly_steps\",\n",
    "    cleaned_minute_sleep: \"minute_sleep\",\n",
    "    cleaned_sleep_day: \"sleep_day\",\n",
    "    cleaned_weight_log_info: \"weight_log_info\"\n",
    "}\n",
    "\n",
    "for df, name in dataframes.items():\n",
    "    save_as_parquet(df, name)\n"
   ]
  },
  {
   "cell_type": "code",
   "execution_count": null,
   "id": "b4fb755d-a071-415e-9a96-fbd581f900df",
   "metadata": {},
   "outputs": [],
   "source": []
  },
  {
   "cell_type": "code",
   "execution_count": 23,
   "id": "d54c7067-b1d2-42d5-8d66-85533ae136de",
   "metadata": {},
   "outputs": [],
   "source": [
    "spark.stop()"
   ]
  },
  {
   "cell_type": "code",
   "execution_count": null,
   "id": "600e5529-cd73-49f5-a01c-d08de1bc31a2",
   "metadata": {},
   "outputs": [],
   "source": []
  }
 ],
 "metadata": {
  "kernelspec": {
   "display_name": "Python 3 (ipykernel)",
   "language": "python",
   "name": "python3"
  },
  "language_info": {
   "codemirror_mode": {
    "name": "ipython",
    "version": 3
   },
   "file_extension": ".py",
   "mimetype": "text/x-python",
   "name": "python",
   "nbconvert_exporter": "python",
   "pygments_lexer": "ipython3",
   "version": "3.10.12"
  }
 },
 "nbformat": 4,
 "nbformat_minor": 5
}
