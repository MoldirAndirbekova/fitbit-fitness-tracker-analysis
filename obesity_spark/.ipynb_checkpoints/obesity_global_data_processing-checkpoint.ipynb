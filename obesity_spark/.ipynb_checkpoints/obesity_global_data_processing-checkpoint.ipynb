{
 "cells": [
  {
   "cell_type": "code",
   "execution_count": 1,
   "id": "fcc27a28-3a0e-4bdc-949f-5df157ea42d9",
   "metadata": {
    "tags": []
   },
   "outputs": [],
   "source": [
    "import pyspark\n",
    "from pyspark.sql import SparkSession\n",
    "from pyspark.conf import SparkConf\n",
    "from pyspark.context import SparkContext\n",
    "from pyspark.sql.types import *"
   ]
  },
  {
   "cell_type": "code",
   "execution_count": 2,
   "id": "62920bc7-037a-46d3-8865-389168899d3c",
   "metadata": {
    "tags": []
   },
   "outputs": [],
   "source": [
    "credentials_location = './google_credentials.json'\n",
    "\n",
    "conf = SparkConf() \\\n",
    "    .setMaster('local[*]') \\\n",
    "    .setAppName(\"Obesity Data Processing\") \\\n",
    "    .set(\"spark.jars\", \"./lib/gcs-connector-hadoop3-2.2.5.jar,./lib-bigquery/spark-3.3-bigquery-0.38.0.jar\") \\\n",
    "    .set(\"spark.hadoop.google.cloud.auth.service.account.enable\", \"true\") \\\n",
    "    .set(\"spark.hadoop.google.cloud.auth.service.account.json.keyfile\", credentials_location)\n"
   ]
  },
  {
   "cell_type": "code",
   "execution_count": 3,
   "id": "de8cdff1-4e86-4351-800d-c2e6c1ce9ef9",
   "metadata": {
    "tags": []
   },
   "outputs": [
    {
     "name": "stdout",
     "output_type": "stream",
     "text": [
      "24/05/14 21:19:30 WARN NativeCodeLoader: Unable to load native-hadoop library for your platform... using builtin-java classes where applicable\n"
     ]
    },
    {
     "name": "stderr",
     "output_type": "stream",
     "text": [
      "Setting default log level to \"WARN\".\n",
      "To adjust logging level use sc.setLogLevel(newLevel). For SparkR, use setLogLevel(newLevel).\n"
     ]
    },
    {
     "name": "stdout",
     "output_type": "stream",
     "text": [
      "24/05/14 21:19:31 WARN Utils: Service 'SparkUI' could not bind on port 4040. Attempting port 4041.\n"
     ]
    }
   ],
   "source": [
    "sc = SparkContext(conf=conf)\n",
    "\n",
    "hadoop_conf = sc._jsc.hadoopConfiguration()\n",
    "\n",
    "hadoop_conf.set(\"fs.AbstractFileSystem.gs.impl\",  \"com.google.cloud.hadoop.fs.gcs.GoogleHadoopFS\")\n",
    "hadoop_conf.set(\"fs.gs.impl\", \"com.google.cloud.hadoop.fs.gcs.GoogleHadoopFileSystem\")\n",
    "hadoop_conf.set(\"fs.gs.auth.service.account.json.keyfile\", credentials_location)\n",
    "hadoop_conf.set(\"fs.gs.auth.service.account.enable\", \"true\")"
   ]
  },
  {
   "cell_type": "code",
   "execution_count": 4,
   "id": "d2057da3-0545-4995-8758-280c8c963a4a",
   "metadata": {
    "tags": []
   },
   "outputs": [],
   "source": [
    "spark = SparkSession.builder \\\n",
    "    .config(conf=sc.getConf()) \\\n",
    "    .getOrCreate()"
   ]
  },
  {
   "cell_type": "code",
   "execution_count": 5,
   "id": "14a23243-c368-49c7-a4f4-c712b57d5c24",
   "metadata": {
    "tags": []
   },
   "outputs": [],
   "source": [
    "bucket_name=\"obesity-analysis-bucket\""
   ]
  },
  {
   "cell_type": "code",
   "execution_count": 6,
   "id": "f9cd8e86-233b-4968-bf18-e86fca893f3d",
   "metadata": {
    "tags": []
   },
   "outputs": [
    {
     "name": "stderr",
     "output_type": "stream",
     "text": [
      "                                                                                \r"
     ]
    }
   ],
   "source": [
    "death_rate_obesity = spark.read.csv(f\"gs://{bucket_name}/death-rate-from-obesity.csv\", header=True, inferSchema=True)\n",
    "mean_bmi_men = spark.read.csv(f\"gs://{bucket_name}/mean-body-mass-index-bmi-in-adult-males.csv\", header=True, inferSchema=True)\n",
    "mean_bmi_women = spark.read.csv(f\"gs://{bucket_name}/mean-body-mass-index-bmi-in-adult-women.csv\", header=True, inferSchema=True)\n",
    "obesity_adults = spark.read.csv(f\"gs://{bucket_name}/share-of-adults-defined-as-obese.csv\", header=True, inferSchema=True)\n",
    "deaths_by_risk_factor = spark.read.csv(f\"gs://{bucket_name}/number-of-deaths-by-risk-factor.csv\", header=True, inferSchema=True)"
   ]
  },
  {
   "cell_type": "code",
   "execution_count": 7,
   "id": "dd8f351b-3253-4477-bb33-1bdfc10412a3",
   "metadata": {
    "tags": []
   },
   "outputs": [],
   "source": [
    "def sort_and_filter(df, sort_column, filter_columns):\n",
    "    filter_condition = col(sort_column).isNotNull()\n",
    "    for column in filter_columns:\n",
    "        filter_condition &= col(column).isNotNull()\n",
    "    return df.orderBy(sort_column).filter(filter_condition)"
   ]
  },
  {
   "cell_type": "code",
   "execution_count": 8,
   "id": "3efef467-b069-40f1-87fa-20870f5d6d65",
   "metadata": {
    "tags": []
   },
   "outputs": [],
   "source": [
    "def print_nonzero_blanks(df, df_name):\n",
    "    blank_found = False\n",
    "    for col_name in df.columns:\n",
    "        blank_count = df.filter((col(col_name).isNull()) | (col(col_name) == \"\")).count()\n",
    "        if blank_count != 0:\n",
    "            blank_found = True\n",
    "            print(f\"DataFrame: {df_name}, Column: {col_name} - {blank_count} blank values\")\n",
    "    if not blank_found:\n",
    "        print(f\"No blank values found in DataFrame: {df_name}\")"
   ]
  },
  {
   "cell_type": "code",
   "execution_count": 9,
   "id": "09b1543d-347d-44ee-af6b-1db866f89271",
   "metadata": {
    "tags": []
   },
   "outputs": [],
   "source": [
    "def print_duplicates(df, df_name):\n",
    "    duplicate_count = df.count() - df.dropDuplicates().count()\n",
    "    if duplicate_count != 0:\n",
    "        print(f\"DataFrame: {df_name} - {duplicate_count} duplicates found\")\n",
    "        df.groupBy(df.columns).count().where(col('count') > 1).show(truncate=False)\n",
    "    else:\n",
    "        print(f\"No duplicates found in DataFrame: {df_name}\")"
   ]
  },
  {
   "cell_type": "code",
   "execution_count": 10,
   "id": "07cd77f0-5de5-4260-ab1c-12e5bb774beb",
   "metadata": {
    "tags": []
   },
   "outputs": [],
   "source": [
    "def remove_duplicates(df, df_name):\n",
    "    initial_count = df.count()\n",
    "    df_no_duplicates = df.dropDuplicates()\n",
    "    final_count = df_no_duplicates.count()\n",
    "    \n",
    "    if initial_count != final_count:\n",
    "        print(f\"Removed {initial_count - final_count} duplicates from DataFrame: {df_name}\")\n",
    "    else:\n",
    "        print(f\"No duplicates found in DataFrame: {df_name}\")\n",
    "    \n",
    "    return df_no_duplicates"
   ]
  },
  {
   "cell_type": "code",
   "execution_count": 11,
   "id": "9c4f962c-cdae-43ea-9cd2-07aa0f9766b1",
   "metadata": {
    "tags": []
   },
   "outputs": [],
   "source": [
    "def process_data(df, df_name, sort_column, filter_columns, date_col=None):\n",
    "    df = sort_and_filter(df, sort_column, filter_columns)\n",
    "    \n",
    "    print_nonzero_blanks(df, df_name)\n",
    "\n",
    "    print_duplicates(df, df_name)\n",
    "    df = remove_duplicates(df, df_name)\n",
    "    \n",
    "    return df"
   ]
  },
  {
   "cell_type": "code",
   "execution_count": 12,
   "id": "a28601b7-14ee-43f4-8137-c66bfd97f669",
   "metadata": {
    "tags": []
   },
   "outputs": [
    {
     "name": "stderr",
     "output_type": "stream",
     "text": [
      "                                                                                \r"
     ]
    },
    {
     "name": "stdout",
     "output_type": "stream",
     "text": [
      "DataFrame: Deaths by Risk Factor, Column: Code - 690 blank values\n",
      "24/05/14 21:20:00 WARN package: Truncated the string representation of a plan since it was too large. This behavior can be adjusted by setting 'spark.sql.debug.maxToStringFields'.\n"
     ]
    },
    {
     "name": "stderr",
     "output_type": "stream",
     "text": [
      "                                                                                \r"
     ]
    },
    {
     "name": "stdout",
     "output_type": "stream",
     "text": [
      "No duplicates found in DataFrame: Deaths by Risk Factor\n",
      "No duplicates found in DataFrame: Deaths by Risk Factor\n",
      "DataFrame: Mean BMI Women, Column: Code - 378 blank values\n",
      "No duplicates found in DataFrame: Mean BMI Women\n",
      "No duplicates found in DataFrame: Mean BMI Women\n",
      "DataFrame: Mean BMI Men, Column: Code - 378 blank values\n",
      "No duplicates found in DataFrame: Mean BMI Men\n",
      "No duplicates found in DataFrame: Mean BMI Men\n",
      "DataFrame: Obesity Adults, Column: Code - 294 blank values\n",
      "No duplicates found in DataFrame: Obesity Adults\n",
      "No duplicates found in DataFrame: Obesity Adults\n",
      "DataFrame: Death Rate Obesity, Column: Code - 690 blank values\n",
      "No duplicates found in DataFrame: Death Rate Obesity\n",
      "No duplicates found in DataFrame: Death Rate Obesity\n"
     ]
    }
   ],
   "source": [
    "from pyspark.sql.functions import when, col, regexp_replace, udf\n",
    "\n",
    "deaths_by_risk_factor_processed = process_data(deaths_by_risk_factor, \"Deaths by Risk Factor\", \"Year\", [\"Year\", \"Entity\"])\n",
    "mean_bmi_women_processed = process_data(mean_bmi_women, \"Mean BMI Women\", \"Year\", [\"Year\", \"Entity\"], \"Year\")\n",
    "mean_bmi_men_processed = process_data(mean_bmi_men, \"Mean BMI Men\", \"Year\", [\"Year\", \"Entity\"], \"Year\")\n",
    "obesity_adults_processed = process_data(obesity_adults, \"Obesity Adults\", \"Year\", [\"Year\", \"Entity\"], \"Year\")\n",
    "death_rate_obesity_processed = process_data(death_rate_obesity, \"Death Rate Obesity\", \"Year\", [\"Year\", \"Entity\"], \"Year\")"
   ]
  },
  {
   "cell_type": "code",
   "execution_count": 16,
   "id": "49a27b52-fd02-4352-9003-7e08785b05ab",
   "metadata": {},
   "outputs": [],
   "source": [
    "from pyspark.sql.types import StringType\n",
    "\n",
    "codes_mapping = {\n",
    "    \"African Region\": \"WHO\", \"Eastern Mediterranean Region\": \"WHO\", \"Region of the Americas\": \"WHO\", \n",
    "    \"European Region\": \"WHO\", \"Western Pacific Region\": \"WHO\", \n",
    "    \"East Asia & Pacific\": \"WB\", \"Europe & Central Asia\": \"WB\", \"High Income\": \"WB\", \n",
    "    \"Latin America & Caribbean\": \"WB\", \"Low Income\": \"WB\", \"Lower Middle Income\": \"WB\", \n",
    "    \"Middle East & North Africa\": \"WB\", \"North America\": \"WB\", \"South Asia\": \"WB\", \"Sub-Saharan Africa\": \"WB\",\n",
    "    \"England\": \"GBR\", \"Northern Ireland\": \"GBR\", \"Scotland\": \"GBR\", \"Wales\": \"GBR\",\n",
    "    \"OECD\": \"USA\", \"Bahrain\": \"BHR\", \"Belgium\": \"BEL\", \"Bolivia\": \"BOL\", \"Brazil\": \"BRA\",\n",
    "    \"Burkina Faso\": \"BFA\", \"Malaysia\": \"MYS\", \"Luxembourg\": \"LUX\", \"Lithuania\": \"LTU\", \"Lebanon\": \"LBN\",\n",
    "    \"Gabon\": \"GAB\", \"France\": \"FRA\", \"Equatorial Guinea\": \"GNQ\", \"Dominican Republic\": \"DOM\", \"Dominica\": \"DMA\",\n",
    "    \"Cook Islands\": \"COK\", \"Colombia\": \"COL\", \"Central African Republic\": \"CAF\", \"Cape Verde\": \"CPV\", \"Canada\": \"CAN\"\n",
    "}\n",
    "\n",
    "def map_code(entity):\n",
    "    return codes_mapping.get(entity, \"UNMATCHED\")\n",
    "\n",
    "map_code_udf = udf(map_code, StringType())\n",
    "\n",
    "def update_codes_if_empty_code(df):\n",
    "    df = df.withColumn(\"Entity\", regexp_replace(col(\"Entity\"), r\"\\s+\\(.*?\\)\", \"\"))\n",
    "    \n",
    "    return df.withColumn(\"Code\", when(col(\"Code\") == \"\", map_code_udf(col(\"Entity\")))\n",
    "                          .otherwise(map_code_udf(col(\"Entity\"))))"
   ]
  },
  {
   "cell_type": "code",
   "execution_count": 17,
   "id": "9c8bbb82-1477-4dc5-9604-58da5da9370d",
   "metadata": {
    "tags": []
   },
   "outputs": [],
   "source": [
    "from pyspark.sql.functions import regexp_replace, coalesce\n",
    "\n",
    "\n",
    "deaths_by_risk_factor_no_blank = update_codes_if_empty_code(deaths_by_risk_factor_processed)\n",
    "mean_bmi_women_no_blank = update_codes_if_empty_code(mean_bmi_women_processed)\n",
    "mean_bmi_men_no_blank = update_codes_if_empty_code(mean_bmi_men_processed)\n",
    "obesity_adults_no_blank = update_codes_if_empty_code(obesity_adults_processed)\n",
    "death_rate_obesity_no_blank = update_codes_if_empty_code(death_rate_obesity_processed)"
   ]
  },
  {
   "cell_type": "code",
   "execution_count": 19,
   "id": "48b600d0-74bf-47fd-bbb8-a508aa1e3ef0",
   "metadata": {
    "tags": []
   },
   "outputs": [
    {
     "name": "stdout",
     "output_type": "stream",
     "text": [
      "No blank values found in DataFrame: Deaths by Risk Factor\n",
      "No duplicates found in DataFrame: Deaths by Risk Factor\n",
      "No duplicates found in DataFrame: Deaths by Risk Factor\n",
      "No blank values found in DataFrame: Mean BMI Women\n",
      "No duplicates found in DataFrame: Mean BMI Women\n",
      "No duplicates found in DataFrame: Mean BMI Women\n",
      "No blank values found in DataFrame: Mean BMI Men\n",
      "No duplicates found in DataFrame: Mean BMI Men\n",
      "No duplicates found in DataFrame: Mean BMI Men\n",
      "No blank values found in DataFrame: Obesity Adults\n",
      "No duplicates found in DataFrame: Obesity Adults\n",
      "No duplicates found in DataFrame: Obesity Adults\n",
      "No blank values found in DataFrame: Death Rate Obesity\n",
      "No duplicates found in DataFrame: Death Rate Obesity\n",
      "No duplicates found in DataFrame: Death Rate Obesity\n"
     ]
    }
   ],
   "source": [
    "deaths_by_risk_factor_processed = process_data(deaths_by_risk_factor_no_blank, \"Deaths by Risk Factor\", \"Year\", [\"Year\", \"Entity\"])\n",
    "mean_bmi_women_processed = process_data(mean_bmi_women_no_blank, \"Mean BMI Women\", \"Year\", [\"Year\", \"Entity\"], \"Year\")\n",
    "mean_bmi_men_processed = process_data(mean_bmi_men_no_blank, \"Mean BMI Men\", \"Year\", [\"Year\", \"Entity\"], \"Year\")\n",
    "obesity_adults_processed = process_data(obesity_adults_no_blank, \"Obesity Adults\", \"Year\", [\"Year\", \"Entity\"], \"Year\")\n",
    "death_rate_obesity_processed = process_data(death_rate_obesity_no_blank, \"Death Rate Obesity\", \"Year\", [\"Year\", \"Entity\"], \"Year\")"
   ]
  },
  {
   "cell_type": "code",
   "execution_count": 20,
   "id": "65ec6912-0a07-46a9-9400-db6ed1f726c5",
   "metadata": {
    "tags": []
   },
   "outputs": [
    {
     "data": {
      "text/plain": [
       "DataFrame[Entity: string, Code: string, Year: int, Deaths that are from all causes attributed to high systolic blood pressure, in both sexes aged all ages: double, Deaths that are from all causes attributed to diet high in sodium, in both sexes aged all ages: double, Deaths that are from all causes attributed to diet low in whole grains, in both sexes aged all ages: double, Deaths that are from all causes attributed to alcohol use, in both sexes aged all ages: double, Deaths that are from all causes attributed to diet low in fruits, in both sexes aged all ages: double, Deaths that are from all causes attributed to unsafe water source, in both sexes aged all ages: double, Deaths that are from all causes attributed to secondhand smoke, in both sexes aged all ages: double, Deaths that are from all causes attributed to low birth weight, in both sexes aged all ages: double, Deaths that are from all causes attributed to child wasting, in both sexes aged all ages: double, Deaths that are from all causes attributed to unsafe sex, in both sexes aged all ages: double, Deaths that are from all causes attributed to diet low in nuts and seeds, in both sexes aged all ages: double, Deaths that are from all causes attributed to household air pollution from solid fuels, in both sexes aged all ages: double, Deaths that are from all causes attributed to diet low in vegetables, in both sexes aged all ages: double, Deaths that are from all causes attributed to smoking, in both sexes aged all ages: double, Deaths that are from all causes attributed to high fasting plasma glucose, in both sexes aged all ages: double, Deaths that are from all causes attributed to air pollution, in both sexes aged all ages: double, Deaths that are from all causes attributed to high body-mass index, in both sexes aged all ages: double, Deaths that are from all causes attributed to unsafe sanitation, in both sexes aged all ages: double, Deaths that are from all causes attributed to drug use, in both sexes aged all ages: double, Deaths that are from all causes attributed to low bone mineral density, in both sexes aged all ages: double, Deaths that are from all causes attributed to vitamin a deficiency, in both sexes aged all ages: double, Deaths that are from all causes attributed to child stunting, in both sexes aged all ages: double, Deaths that are from all causes attributed to non-exclusive breastfeeding, in both sexes aged all ages: double, Deaths that are from all causes attributed to iron deficiency, in both sexes aged all ages: double, Deaths that are from all causes attributed to ambient particulate matter pollution, in both sexes aged all ages: double, Deaths that are from all causes attributed to low physical activity, in both sexes aged all ages: double, Deaths that are from all causes attributed to no access to handwashing facility, in both sexes aged all ages: double, Deaths that are from all causes attributed to high ldl cholesterol, in both sexes aged all ages: double]"
      ]
     },
     "execution_count": 20,
     "metadata": {},
     "output_type": "execute_result"
    }
   ],
   "source": [
    "deaths_by_risk_factor_processed"
   ]
  },
  {
   "cell_type": "code",
   "execution_count": 21,
   "id": "5890cc0e-0966-4c06-b0cc-80c4561910af",
   "metadata": {
    "tags": []
   },
   "outputs": [],
   "source": [
    "deaths_by_risk_factor_processed = deaths_by_risk_factor_processed.withColumnRenamed(\"Deaths that are from all causes attributed to high systolic blood pressure, in both sexes aged all ages\", \"SBP_Deaths\") \\\n",
    "       .withColumnRenamed(\"Deaths that are from all causes attributed to diet high in sodium, in both sexes aged all ages\", \"Sodium_Deaths\") \\\n",
    "       .withColumnRenamed(\"Deaths that are from all causes attributed to diet low in whole grains, in both sexes aged all ages\", \"Whole_Grains_Deaths\") \\\n",
    "       .withColumnRenamed(\"Deaths that are from all causes attributed to alcohol use, in both sexes aged all ages\", \"Alcohol_Deaths\") \\\n",
    "       .withColumnRenamed(\"Deaths that are from all causes attributed to diet low in fruits, in both sexes aged all ages\", \"Fruit_Deaths\") \\\n",
    "       .withColumnRenamed(\"Deaths that are from all causes attributed to unsafe water source, in both sexes aged all ages\", \"Water_Deaths\") \\\n",
    "       .withColumnRenamed(\"Deaths that are from all causes attributed to secondhand smoke, in both sexes aged all ages\", \"SHSmoke_Deaths\") \\\n",
    "       .withColumnRenamed(\"Deaths that are from all causes attributed to low birth weight, in both sexes aged all ages\", \"LBW_Deaths\") \\\n",
    "       .withColumnRenamed(\"Deaths that are from all causes attributed to child wasting, in both sexes aged all ages\", \"Wasting_Deaths\") \\\n",
    "       .withColumnRenamed(\"Deaths that are from all causes attributed to unsafe sex, in both sexes aged all ages\", \"Unsafe_Sex_Deaths\") \\\n",
    "       .withColumnRenamed(\"Deaths that are from all causes attributed to diet low in nuts and seeds, in both sexes aged all ages\", \"Nuts_Seeds_Deaths\") \\\n",
    "       .withColumnRenamed(\"Deaths that are from all causes attributed to household air pollution from solid fuels, in both sexes aged all ages\", \"HAP_Deaths\") \\\n",
    "       .withColumnRenamed(\"Deaths that are from all causes attributed to diet low in vegetables, in both sexes aged all ages\", \"Vegetable_Deaths\") \\\n",
    "       .withColumnRenamed(\"Deaths that are from all causes attributed to smoking, in both sexes aged all ages\", \"Smoking_Deaths\") \\\n",
    "       .withColumnRenamed(\"Deaths that are from all causes attributed to high fasting plasma glucose, in both sexes aged all ages\", \"FPG_Deaths\") \\\n",
    "       .withColumnRenamed(\"Deaths that are from all causes attributed to air pollution, in both sexes aged all ages\", \"Air_Pollution_Deaths\") \\\n",
    "       .withColumnRenamed(\"Deaths that are from all causes attributed to high body-mass index, in both sexes aged all ages\", \"BMI_Deaths\") \\\n",
    "       .withColumnRenamed(\"Deaths that are from all causes attributed to unsafe sanitation, in both sexes aged all ages\", \"Sanitation_Deaths\") \\\n",
    "       .withColumnRenamed(\"Deaths that are from all causes attributed to drug use, in both sexes aged all ages\", \"Drug_Deaths\") \\\n",
    "       .withColumnRenamed(\"Deaths that are from all causes attributed to low bone mineral density, in both sexes aged all ages\", \"BMD_Deaths\") \\\n",
    "       .withColumnRenamed(\"Deaths that are from all causes attributed to vitamin a deficiency, in both sexes aged all ages\", \"Vitamin_A_Deaths\") \\\n",
    "       .withColumnRenamed(\"Deaths that are from all causes attributed to child stunting, in both sexes aged all ages\", \"Stunting_Deaths\") \\\n",
    "       .withColumnRenamed(\"Deaths that are from all causes attributed to non-exclusive breastfeeding, in both sexes aged all ages\", \"Breast_feeding_Deaths\") \\\n",
    "       .withColumnRenamed(\"Deaths that are from all causes attributed to iron deficiency, in both sexes aged all ages\", \"Iron_Deaths\") \\\n",
    "       .withColumnRenamed(\"Deaths that are from all causes attributed to ambient particulate matter pollution, in both sexes aged all ages\", \"PM_Deaths\") \\\n",
    "       .withColumnRenamed(\"Deaths that are from all causes attributed to low physical activity, in both sexes aged all ages\", \"Activity_Deaths\") \\\n",
    "       .withColumnRenamed(\"Deaths that are from all causes attributed to no access to handwashing facility, in both sexes aged all ages\", \"Hand_washing_Deaths\") \\\n",
    "       .withColumnRenamed(\"Deaths that are from all causes attributed to high ldl cholesterol, in both sexes aged all ages\", \"LDL_Deaths\")\n"
   ]
  },
  {
   "cell_type": "code",
   "execution_count": 22,
   "id": "dab270e1-fc9a-4720-b240-cb7f99482ec7",
   "metadata": {
    "tags": []
   },
   "outputs": [
    {
     "data": {
      "text/plain": [
       "DataFrame[Entity: string, Code: string, Year: int, SBP_Deaths: double, Sodium_Deaths: double, Whole_Grains_Deaths: double, Alcohol_Deaths: double, Fruit_Deaths: double, Water_Deaths: double, SHSmoke_Deaths: double, LBW_Deaths: double, Wasting_Deaths: double, Unsafe_Sex_Deaths: double, Nuts_Seeds_Deaths: double, HAP_Deaths: double, Vegetable_Deaths: double, Smoking_Deaths: double, FPG_Deaths: double, Air_Pollution_Deaths: double, BMI_Deaths: double, Sanitation_Deaths: double, Drug_Deaths: double, BMD_Deaths: double, Vitamin_A_Deaths: double, Stunting_Deaths: double, Breast_feeding_Deaths: double, Iron_Deaths: double, PM_Deaths: double, Activity_Deaths: double, Hand_washing_Deaths: double, LDL_Deaths: double]"
      ]
     },
     "execution_count": 22,
     "metadata": {},
     "output_type": "execute_result"
    }
   ],
   "source": [
    "deaths_by_risk_factor_processed"
   ]
  },
  {
   "cell_type": "code",
   "execution_count": 23,
   "id": "1e088895-e72b-40e1-a013-742705f6ed37",
   "metadata": {
    "tags": []
   },
   "outputs": [],
   "source": [
    "import re\n",
    "\n",
    "def camel_to_snake(name):\n",
    "    s1 = re.sub('(.)([A-Z][a-z]+)', r'\\1_\\2', name)\n",
    "    return re.sub('([a-z0-9])([A-Z])', r'\\1_\\2', s1).lower()\n",
    "\n",
    "deaths_by_risk_factor_processed = deaths_by_risk_factor_processed \\\n",
    "    .select([col(c).alias(camel_to_snake(c)) for c in deaths_by_risk_factor_processed.columns])\n",
    "\n",
    "mean_bmi_women_processed = mean_bmi_women_processed \\\n",
    "    .select([col(c).alias(camel_to_snake(c)) for c in mean_bmi_women_processed.columns])\n",
    "\n",
    "mean_bmi_men_processed = mean_bmi_men_processed \\\n",
    "    .select([col(c).alias(camel_to_snake(c)) for c in mean_bmi_men_processed.columns])\n",
    "\n",
    "obesity_adults_processed = obesity_adults_processed \\\n",
    "    .select([col(c).alias(camel_to_snake(c)) for c in obesity_adults_processed.columns])\n",
    "\n",
    "death_rate_obesity_processed = death_rate_obesity_processed \\\n",
    "    .select([col(c).alias(camel_to_snake(c)) for c in death_rate_obesity_processed.columns])"
   ]
  },
  {
   "cell_type": "code",
   "execution_count": 24,
   "id": "70ac05a1-f85d-4ecf-98fd-731e172e725b",
   "metadata": {
    "tags": []
   },
   "outputs": [
    {
     "name": "stdout",
     "output_type": "stream",
     "text": [
      "+--------------------+---------+-------------------+---------------+\n",
      "|              entity|     code|               year|mean_bmi_female|\n",
      "+--------------------+---------+-------------------+---------------+\n",
      "|              Brazil|      BRA|1970-01-01 00:32:55|    22.91392441|\n",
      "|            Malaysia|      MYS|1970-01-01 00:33:06|    22.33452108|\n",
      "|             Myanmar|UNMATCHED|1970-01-01 00:33:26|    22.28340314|\n",
      "|            Mongolia|UNMATCHED|1970-01-01 00:32:57|    22.74688401|\n",
      "|          Mauritania|UNMATCHED|1970-01-01 00:33:20|     25.2055842|\n",
      "|               Libya|UNMATCHED|1970-01-01 00:33:06|    27.21854788|\n",
      "| Trinidad and Tobago|UNMATCHED|1970-01-01 00:33:18|    26.55626557|\n",
      "|             Croatia|UNMATCHED|1970-01-01 00:33:36|    27.03333448|\n",
      "|               Libya|UNMATCHED|1970-01-01 00:33:15|    28.01256469|\n",
      "|        Turkmenistan|UNMATCHED|1970-01-01 00:33:13|    24.02612442|\n",
      "|            Barbados|UNMATCHED|1970-01-01 00:33:11|    27.27673603|\n",
      "|               Yemen|UNMATCHED|1970-01-01 00:33:05|    20.48840693|\n",
      "|             Uruguay|UNMATCHED|1970-01-01 00:33:28|    26.85596617|\n",
      "|            Tanzania|UNMATCHED|1970-01-01 00:33:10|    21.37948685|\n",
      "|             Finland|UNMATCHED|1970-01-01 00:32:56|    24.20513207|\n",
      "|              Rwanda|UNMATCHED|1970-01-01 00:32:58|    18.98067387|\n",
      "|Central and Easte...|UNMATCHED|1970-01-01 00:33:15|    25.89598662|\n",
      "|               Benin|UNMATCHED|1970-01-01 00:33:26|    23.35782754|\n",
      "|               Yemen|UNMATCHED|1970-01-01 00:33:26|     23.1300453|\n",
      "|            Maldives|UNMATCHED|1970-01-01 00:32:55|    20.73414308|\n",
      "+--------------------+---------+-------------------+---------------+\n",
      "only showing top 20 rows\n",
      "\n"
     ]
    }
   ],
   "source": [
    "mean_bmi_women_processed = mean_bmi_women_processed.withColumn(\"year\", col(\"year\").cast(TimestampType()))\n",
    "mean_bmi_women_processed = mean_bmi_women_processed.withColumnRenamed(\"Mean BMI (female)\", \"mean_bmi_female\")\n",
    "mean_bmi_women_processed.show()"
   ]
  },
  {
   "cell_type": "code",
   "execution_count": 25,
   "id": "6f1019d7-a7e0-45dd-9a2b-d1da426d45dc",
   "metadata": {
    "tags": []
   },
   "outputs": [
    {
     "data": {
      "text/plain": [
       "DataFrame[entity: string, code: string, year: timestamp, mean_bmi_male: double]"
      ]
     },
     "execution_count": 25,
     "metadata": {},
     "output_type": "execute_result"
    }
   ],
   "source": [
    "mean_bmi_men_processed = mean_bmi_men_processed.withColumn(\"year\", col(\"Year\").cast(TimestampType()))\n",
    "mean_bmi_men_processed = mean_bmi_men_processed.withColumnRenamed(\"Mean BMI (male)\", \"mean_bmi_male\")\n",
    "mean_bmi_men_processed"
   ]
  },
  {
   "cell_type": "code",
   "execution_count": 26,
   "id": "489c3da2-b119-4ecf-a0c5-f40dc1cafb97",
   "metadata": {
    "tags": []
   },
   "outputs": [
    {
     "data": {
      "text/plain": [
       "DataFrame[entity: string, code: string, year: timestamp, adult_obesity_prevalence_bmi_30_plus_pct_both_sexes_18_plus: double]"
      ]
     },
     "execution_count": 26,
     "metadata": {},
     "output_type": "execute_result"
    }
   ],
   "source": [
    "obesity_adults_processed = obesity_adults_processed.withColumn(\"year\", col(\"Year\").cast(TimestampType()))\n",
    "obesity_adults_processed = obesity_adults_processed.withColumnRenamed(\"prevalence of obesity among adults, bmi >= 30 (crude estimate) (%) - _sex: both sexes - _age group: 18+  years\", \"adult_obesity_prevalence_bmi_30_plus_pct_both_sexes_18_plus\")\n",
    "obesity_adults_processed"
   ]
  },
  {
   "cell_type": "code",
   "execution_count": 27,
   "id": "02fc6af4-b5b4-42a5-b9a0-711809a74696",
   "metadata": {
    "tags": []
   },
   "outputs": [
    {
     "data": {
      "text/plain": [
       "DataFrame[entity: string, code: string, year: timestamp, high_bmi_death_rate_per_100k_both_sexes_age_std: double]"
      ]
     },
     "execution_count": 27,
     "metadata": {},
     "output_type": "execute_result"
    }
   ],
   "source": [
    "death_rate_obesity_processed = death_rate_obesity_processed.withColumn(\"year\", col(\"Year\").cast(TimestampType()))\n",
    "death_rate_obesity_processed = death_rate_obesity_processed.withColumnRenamed(\"deaths that are from all causes attributed to high body-mass index per 100,000 people, in both sexes aged age-standardized\", \"high_bmi_death_rate_per_100k_both_sexes_age_std\")\n",
    "death_rate_obesity_processed"
   ]
  },
  {
   "cell_type": "code",
   "execution_count": 28,
   "id": "53a3c3bf-3401-44b1-a842-855435c6b637",
   "metadata": {
    "tags": []
   },
   "outputs": [
    {
     "data": {
      "text/plain": [
       "DataFrame[entity: string, code: string, year: timestamp, adult_obesity_prevalence_bmi_30_plus_pct_both_sexes_18_plus: double]"
      ]
     },
     "execution_count": 28,
     "metadata": {},
     "output_type": "execute_result"
    }
   ],
   "source": [
    "obesity_adults_processed = obesity_adults_processed.withColumn(\"year\", col(\"Year\").cast(TimestampType()))\n",
    "obesity_adults_processed"
   ]
  },
  {
   "cell_type": "code",
   "execution_count": 29,
   "id": "e5645d4c-f4fe-43f9-9a3f-c33172a5e32e",
   "metadata": {
    "tags": []
   },
   "outputs": [],
   "source": [
    "dataframes_info = {\n",
    "    deaths_by_risk_factor_processed: \"deaths_by_risk_factor\",\n",
    "    mean_bmi_women_processed: \"mean_bmi_women\",\n",
    "    mean_bmi_men_processed: \"mean_bmi_men\",\n",
    "    obesity_adults_processed: \"obesity_adults\",\n",
    "    death_rate_obesity_processed: \"death_rate_obesity\",\n",
    "}"
   ]
  },
  {
   "cell_type": "code",
   "execution_count": 30,
   "id": "1a372c73-d5e0-406e-a402-6b16a0d4156d",
   "metadata": {
    "tags": []
   },
   "outputs": [],
   "source": [
    "def save_to_bigquery(df, table_name):\n",
    "    temp_bucket = \"obesity-analysis-temp-bucket\"\n",
    "    df.write \\\n",
    "      .format(\"bigquery\") \\\n",
    "      .option(\"table\", f\"useful-monitor-415110.obesity_analysis_dataset.{table_name}\") \\\n",
    "      .option(\"temporaryGcsBucket\", temp_bucket) \\\n",
    "      .mode('overwrite') \\\n",
    "      .save()\n"
   ]
  },
  {
   "cell_type": "code",
   "execution_count": 31,
   "id": "0ade2dbf-9ae3-42ac-b38c-e411af95c7e7",
   "metadata": {
    "tags": []
   },
   "outputs": [
    {
     "name": "stderr",
     "output_type": "stream",
     "text": [
      "                                                                                \r"
     ]
    }
   ],
   "source": [
    "for df, name in dataframes_info.items():\n",
    "    save_to_bigquery(df, name)\n"
   ]
  },
  {
   "cell_type": "code",
   "execution_count": 32,
   "id": "c8c6dc21-37d6-4498-a108-a13a68d57728",
   "metadata": {
    "tags": []
   },
   "outputs": [],
   "source": [
    "spark.stop()"
   ]
  }
 ],
 "metadata": {
  "kernelspec": {
   "display_name": "Python 3 (ipykernel)",
   "language": "python",
   "name": "python3"
  },
  "language_info": {
   "codemirror_mode": {
    "name": "ipython",
    "version": 3
   },
   "file_extension": ".py",
   "mimetype": "text/x-python",
   "name": "python",
   "nbconvert_exporter": "python",
   "pygments_lexer": "ipython3",
   "version": "3.10.12"
  }
 },
 "nbformat": 4,
 "nbformat_minor": 5
}
